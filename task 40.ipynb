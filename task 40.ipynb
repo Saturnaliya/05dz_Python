{
  "nbformat": 4,
  "nbformat_minor": 0,
  "metadata": {
    "colab": {
      "provenance": [],
      "authorship_tag": "ABX9TyOdNVuXch1ojjSlXmViJwGw",
      "include_colab_link": true
    },
    "kernelspec": {
      "name": "python3",
      "display_name": "Python 3"
    },
    "language_info": {
      "name": "python"
    }
  },
  "cells": [
    {
      "cell_type": "markdown",
      "metadata": {
        "id": "view-in-github",
        "colab_type": "text"
      },
      "source": [
        "<a href=\"https://colab.research.google.com/github/Saturnaliya/05dz_Python/blob/main/task%2040.ipynb\" target=\"_parent\"><img src=\"https://colab.research.google.com/assets/colab-badge.svg\" alt=\"Open In Colab\"/></a>"
      ]
    },
    {
      "cell_type": "markdown",
      "source": [],
      "metadata": {
        "id": "Q1GcINbQmh3p"
      }
    },
    {
      "cell_type": "markdown",
      "source": [
        "# Урок 9. Работа с табличными данными #\n"
      ],
      "metadata": {
        "id": "CUt6oyYJmmQf"
      }
    },
    {
      "cell_type": "markdown",
      "source": [
        "## Задача 40: Работать с файлом california_housing_train.csv, который находится в папке sample_data. Определить среднюю стоимость дома, где кол-во людей от 0 до 500 (population). ##"
      ],
      "metadata": {
        "id": "YvC0KPb9mzAG"
      }
    },
    {
      "cell_type": "markdown",
      "source": [
        "1. Прочесть с помощью pandas файл\n",
        "california_housing_train.csv, который находится в папке\n",
        "sample_data\n",
        "2. Найти диапазон в таблице, соответствующий условию: populations < 500\n",
        "3. Соблюдая условие (2), определить среднюю стоимость дома (median_house_value)  \n"
      ],
      "metadata": {
        "id": "zyMI4bcIuIAM"
      }
    },
    {
      "cell_type": "code",
      "source": [
        "import pandas as pd"
      ],
      "metadata": {
        "id": "aXAOSAwbqaph"
      },
      "execution_count": null,
      "outputs": []
    },
    {
      "cell_type": "code",
      "source": [
        "df = pd.read_csv('/content/sample_data/california_housing_train.csv')"
      ],
      "metadata": {
        "id": "Tvb4wbCFrcB-"
      },
      "execution_count": null,
      "outputs": []
    },
    {
      "cell_type": "code",
      "source": [
        "df['population'] < 500"
      ],
      "metadata": {
        "colab": {
          "base_uri": "https://localhost:8080/"
        },
        "id": "XAF2ic6OAWDU",
        "outputId": "a154844c-b784-4bda-f9f6-dbf2f791336c"
      },
      "execution_count": null,
      "outputs": [
        {
          "output_type": "execute_result",
          "data": {
            "text/plain": [
              "0        False\n",
              "1        False\n",
              "2         True\n",
              "3        False\n",
              "4        False\n",
              "         ...  \n",
              "16995    False\n",
              "16996    False\n",
              "16997    False\n",
              "16998    False\n",
              "16999    False\n",
              "Name: population, Length: 17000, dtype: bool"
            ]
          },
          "metadata": {},
          "execution_count": 9
        }
      ]
    },
    {
      "cell_type": "code",
      "source": [
        "df[(df['population'] < 500)]['median_house_value'].mean()"
      ],
      "metadata": {
        "colab": {
          "base_uri": "https://localhost:8080/"
        },
        "id": "AUQ2eJFsAgA_",
        "outputId": "7c01e675-bf5a-45c1-9d56-1a7101c1291d"
      },
      "execution_count": null,
      "outputs": [
        {
          "output_type": "execute_result",
          "data": {
            "text/plain": [
              "206683.83635227982"
            ]
          },
          "metadata": {},
          "execution_count": 11
        }
      ]
    }
  ]
}